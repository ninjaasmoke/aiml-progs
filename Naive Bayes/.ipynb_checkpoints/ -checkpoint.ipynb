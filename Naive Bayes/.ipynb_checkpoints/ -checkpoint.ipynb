{
 "cells": [
  {
   "cell_type": "code",
   "execution_count": 1,
   "id": "db48aa6b",
   "metadata": {
    "scrolled": true
   },
   "outputs": [
    {
     "name": "stdout",
     "output_type": "stream",
     "text": [
      "Sample: [  1.    153.     82.     42.    485.     40.6     0.687  23.   ]  Actual:  0  Predicted:  1\n",
      "Sample: [  3.   111.    58.    31.    44.    29.5    0.43  22.  ]  Actual:  0  Predicted:  0\n",
      "Sample: [  3.    173.     82.     48.    465.     38.4     2.137  25.   ]  Actual:  1  Predicted:  1\n",
      "Sample: [  0.    134.     58.     20.    291.     26.4     0.352  21.   ]  Actual:  0  Predicted:  0\n",
      "Sample: [3.00e+00 1.58e+02 6.40e+01 1.30e+01 3.87e+02 3.12e+01 2.95e-01 2.40e+01]  Actual:  0  Predicted:  1\n",
      "Sample: [  3.  142.   80.   15.    0.   32.4   0.2  63. ]  Actual:  0  Predicted:  0\n",
      "Sample: [  5.    111.     72.     28.      0.     23.9     0.407  27.   ]  Actual:  0  Predicted:  0\n",
      "Sample: [ 2.    84.    50.    23.    76.    30.4    0.968 21.   ]  Actual:  0  Predicted:  0\n",
      "Accuracy:  0.75\n"
     ]
    }
   ],
   "source": [
    "import pandas as pd\n",
    "import numpy as np\n",
    "from sklearn.naive_bayes import GaussianNB\n",
    "from sklearn.model_selection import train_test_split\n",
    "\n",
    "names = [\"Pregnancies\", \"Glucose\", \"BloodPressure\", \"SkinThickness\", \"Insulin\", \"BMI\", \"DiabetesPedigreeFunction\",\"Age\", \"Outcome\"]\n",
    "dataset = pd.read_csv('naivedata.csv', names=names)\n",
    "\n",
    "data = np.array(dataset.iloc[:,0:-1])\n",
    "target = np.array(dataset.iloc[:,-1])\n",
    "\n",
    "X,x,Y,y = train_test_split(data, target, test_size=0.01)\n",
    "\n",
    "model = GaussianNB().fit(X, Y)\n",
    "pred = model.predict(x)\n",
    "\n",
    "for r in range(0, len(x)):\n",
    "    print(\"Sample:\", x[r], \" Actual: \", y[r], \" Predicted: \", pred[r])\n",
    "    \n",
    "print(\"Accuracy: \", model.score(x,y))"
   ]
  },
  {
   "cell_type": "code",
   "execution_count": null,
   "id": "c34c92df",
   "metadata": {},
   "outputs": [],
   "source": []
  }
 ],
 "metadata": {
  "kernelspec": {
   "display_name": "Python 3 (ipykernel)",
   "language": "python",
   "name": "python3"
  },
  "language_info": {
   "codemirror_mode": {
    "name": "ipython",
    "version": 3
   },
   "file_extension": ".py",
   "mimetype": "text/x-python",
   "name": "python",
   "nbconvert_exporter": "python",
   "pygments_lexer": "ipython3",
   "version": "3.10.2"
  }
 },
 "nbformat": 4,
 "nbformat_minor": 5
}

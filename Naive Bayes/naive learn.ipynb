{
 "cells": [
  {
   "cell_type": "code",
   "execution_count": 3,
   "id": "37c40559",
   "metadata": {},
   "outputs": [
    {
     "name": "stdout",
     "output_type": "stream",
     "text": [
      "NB Accuracy:  0.75\n",
      "KNN Accuracy:  0.75\n"
     ]
    }
   ],
   "source": [
    "import numpy as np\n",
    "import pandas as pd\n",
    "\n",
    "from sklearn.naive_bayes import GaussianNB\n",
    "from sklearn.neighbors import KNeighborsClassifier as KNN\n",
    "from sklearn.model_selection import train_test_split\n",
    "\n",
    "names=[\"Pregnancies\", \"Glucose\", \"BP\", \"SkinThickness\", \"Insulin\", \"BMI\", \"DiabetesPediatric\", \"Age\", \"Output\"]\n",
    "data=pd.read_csv(\"naivedata.csv\", names=names)\n",
    "\n",
    "da=np.array(data.iloc[:,0:-1])\n",
    "ta=np.array(data.iloc[:, -1])\n",
    "\n",
    "X,x,Y,y = train_test_split(da, ta, test_size=0.01)\n",
    "\n",
    "nb = GaussianNB().fit(X,Y)\n",
    "p1 = nb.predict(x)\n",
    "\n",
    "# for r in range(len(x)):\n",
    "#     print(\"Sel: \", x[r], \" Actual: \", y[r], \" Predicted: \", p1[r])\n",
    "#     pass\n",
    "print(\"NB Accuracy: \", nb.score(x,y))\n",
    "\n",
    "knn = KNN(3).fit(X,Y)\n",
    "p2 = knn.predict(x)\n",
    "\n",
    "# for r in range(len(x)):\n",
    "#     print(\"Sel: \", x[r], \" Actual: \", y[r], \" Predicted: \", p[r])\n",
    "#     pass\n",
    "print(\"KNN Accuracy: \", knn.score(x,y))"
   ]
  },
  {
   "cell_type": "code",
   "execution_count": 1,
   "id": "1977407c",
   "metadata": {},
   "outputs": [
    {
     "name": "stdout",
     "output_type": "stream",
     "text": [
      "Predicted Value: [0]\n"
     ]
    }
   ],
   "source": [
    "import pandas as pd\n",
    "import numpy as np\n",
    "from sklearn.naive_bayes import GaussianNB as G\n",
    "\n",
    "data = pd.read_csv('naivedata.csv')\n",
    "\n",
    "x = np.array(data.iloc[:,0:-1])\n",
    "y = np.array(data.iloc[:,-1])\n",
    "\n",
    "model = G().fit(x,y)\n",
    "\n",
    "predicted= model.predict([[1,85,66,29,0,26.6,0.351,31]])\n",
    "print(\"Predicted Value:\", predicted)"
   ]
  },
  {
   "cell_type": "code",
   "execution_count": null,
   "id": "a8d30af9",
   "metadata": {},
   "outputs": [],
   "source": []
  }
 ],
 "metadata": {
  "kernelspec": {
   "display_name": "Python 3 (ipykernel)",
   "language": "python",
   "name": "python3"
  },
  "language_info": {
   "codemirror_mode": {
    "name": "ipython",
    "version": 3
   },
   "file_extension": ".py",
   "mimetype": "text/x-python",
   "name": "python",
   "nbconvert_exporter": "python",
   "pygments_lexer": "ipython3",
   "version": "3.10.2"
  }
 },
 "nbformat": 4,
 "nbformat_minor": 5
}

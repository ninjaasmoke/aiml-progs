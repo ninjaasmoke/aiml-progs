{
 "cells": [
  {
   "cell_type": "code",
   "execution_count": 19,
   "id": "0d036fe2",
   "metadata": {},
   "outputs": [
    {
     "name": "stdout",
     "output_type": "stream",
     "text": [
      "Specific: ['Japan ' 'Honda' 'Blue ' 1980 'Economy']\n",
      "General: [['?', '?', '?', '?', '?'], ['?', '?', '?', '?', '?'], ['?', '?', '?', '?', '?'], ['?', '?', '?', '?', '?'], ['?', '?', '?', '?', '?']]\n",
      "\n",
      "\n",
      "Specific: ['Japan ' '?' '?' '?' 'Economy']\n",
      "General: [['Japan ', '?', '?', '?', '?']]\n"
     ]
    }
   ],
   "source": [
    "import numpy as np\n",
    "import pandas as pd\n",
    "\n",
    "data = pd.read_csv('candi.csv')\n",
    "\n",
    "concepts = np.array(data.iloc[:,0:-1])\n",
    "targets = np.array(data.iloc[:,-1])\n",
    "\n",
    "def learn(concepts, target):\n",
    "    s = concepts[0].copy()\n",
    "    g = [[\"?\" for i in range(len(s))] for i in range(len(s))]\n",
    "    \n",
    "    print(f'Specific: {s}\\nGeneral: {g}\\n\\n')\n",
    "    \n",
    "    for i, h in enumerate(concepts):\n",
    "        \n",
    "        for x in range(len(s)):\n",
    "            if target[i] == \"yes\" or target[i] == \"Yes\":\n",
    "                if h[x] != s[x]:\n",
    "                    s[x] = '?'\n",
    "                    g[x][x] = '?'\n",
    "            else:\n",
    "                if h[x] != s[x]:\n",
    "                    g[x][x] = s[x]\n",
    "                else:\n",
    "                    g[x][x] = '?'\n",
    "    \n",
    "    G = []\n",
    "    for val in g:\n",
    "        if val != [\"?\" for i in range(len(s))]:\n",
    "            G.append(val)\n",
    "    return s, G\n",
    "\n",
    "s, g = learn(concepts, targets)\n",
    "\n",
    "print(f'Specific: {s}\\nGeneral: {g}')"
   ]
  },
  {
   "cell_type": "code",
   "execution_count": null,
   "id": "e008e20f",
   "metadata": {},
   "outputs": [],
   "source": []
  }
 ],
 "metadata": {
  "kernelspec": {
   "display_name": "Python 3 (ipykernel)",
   "language": "python",
   "name": "python3"
  },
  "language_info": {
   "codemirror_mode": {
    "name": "ipython",
    "version": 3
   },
   "file_extension": ".py",
   "mimetype": "text/x-python",
   "name": "python",
   "nbconvert_exporter": "python",
   "pygments_lexer": "ipython3",
   "version": "3.10.2"
  }
 },
 "nbformat": 4,
 "nbformat_minor": 5
}

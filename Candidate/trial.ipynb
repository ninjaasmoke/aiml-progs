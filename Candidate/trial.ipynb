{
 "cells": [
  {
   "cell_type": "code",
   "execution_count": 24,
   "id": "3cd1b49f",
   "metadata": {},
   "outputs": [
    {
     "name": "stdout",
     "output_type": "stream",
     "text": [
      "Specific:  ['sunny' 'warm' '?' 'strong' '?' '?']\n",
      "General:  [['sunny', '?', '?', '?', '?', '?'], ['?', 'warm', '?', '?', '?', '?']]\n"
     ]
    }
   ],
   "source": [
    "import numpy as np\n",
    "import pandas as pd\n",
    "\n",
    "data = pd.read_csv('candi.csv')\n",
    "\n",
    "t = np.array(data.iloc[:, -1])\n",
    "c = np.array(data.iloc[:, 0: -1])\n",
    "\n",
    "def learn(t, c):\n",
    "    s = c[0].copy()\n",
    "    g = [[\"?\" for i in range(len(s))] for i in range(len(s))]\n",
    "    \n",
    "    for i, h in enumerate(c):\n",
    "        for x in range(len(s)):\n",
    "            if t[i] == \"yes\":\n",
    "                if h[x] != s[x]:\n",
    "                    s[x] = \"?\"\n",
    "                    g[x][x] = \"?\"\n",
    "            else:\n",
    "                if h[x] != s[x]:\n",
    "                    g[x][x] = s[x]\n",
    "                else:\n",
    "                    g[x][x] = '?'\n",
    "    G = []\n",
    "    for i in g:\n",
    "        if i != [\"?\" for x in s]:\n",
    "            G.append(i)\n",
    "    return s,G\n",
    "\n",
    "s, g = learn(t,c)\n",
    "\n",
    "print(\"Specific: \",s)\n",
    "print(\"General: \",g)"
   ]
  },
  {
   "cell_type": "code",
   "execution_count": null,
   "id": "8ebc6b37",
   "metadata": {},
   "outputs": [],
   "source": []
  }
 ],
 "metadata": {
  "kernelspec": {
   "display_name": "Python 3 (ipykernel)",
   "language": "python",
   "name": "python3"
  },
  "language_info": {
   "codemirror_mode": {
    "name": "ipython",
    "version": 3
   },
   "file_extension": ".py",
   "mimetype": "text/x-python",
   "name": "python",
   "nbconvert_exporter": "python",
   "pygments_lexer": "ipython3",
   "version": "3.10.2"
  }
 },
 "nbformat": 4,
 "nbformat_minor": 5
}

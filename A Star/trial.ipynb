{
 "cells": [
  {
   "cell_type": "code",
   "execution_count": 18,
   "id": "862ff2ce",
   "metadata": {},
   "outputs": [],
   "source": [
    "class Graph:\n",
    "    \n",
    "    def __init__(self, adj_list):\n",
    "        self.adj_list = adj_list\n",
    "        pass\n",
    "    \n",
    "    def g(self, n):\n",
    "        return self.adj_list[n]\n",
    "    \n",
    "    def h(self, n):\n",
    "        H = {\n",
    "            'A' : 10,\n",
    "            'B' : 2,\n",
    "            'C' : 5,\n",
    "            'D' : 1,\n",
    "            'E' : 8,\n",
    "            'F' : 7,\n",
    "            'G' : 0\n",
    "        }\n",
    "        return H[n]\n",
    "    \n",
    "    def aStar(self, start, stop):\n",
    "        open_list = set([start])\n",
    "        closed_list = set([])\n",
    "        \n",
    "        g = {}\n",
    "        g[start] = 0\n",
    "        \n",
    "        parents = {}\n",
    "        parents[start] = start\n",
    "        \n",
    "        while len(open_list) > 0:\n",
    "            n = None\n",
    "            \n",
    "            for v in open_list:\n",
    "                if n == None or g[v] + self.h(v) > g[n] + self.h(n):\n",
    "                    n = v\n",
    "            \n",
    "            if n == None:\n",
    "                print(\"Path not found!\")\n",
    "                return None\n",
    "            \n",
    "            if n == stop:\n",
    "                recon = []\n",
    "                \n",
    "                while parents[n] != n:\n",
    "                    recon.append(n)\n",
    "                    n = parents[n]\n",
    "                \n",
    "                recon.append(start)\n",
    "                recon.reverse()\n",
    "                \n",
    "                print(f'Path found: {recon}')\n",
    "                return recon;\n",
    "            \n",
    "            for (m, weight) in self.g(n):\n",
    "                if m not in open_list and m not in closed_list:\n",
    "                    open_list.add(m)\n",
    "                    g[m] = g[n] + weight\n",
    "                    parents[m] = n\n",
    "                else:\n",
    "                    if g[m] > g[n] + weight:\n",
    "                        g[m] = g[n] + weight\n",
    "                        parents[m] = n\n",
    "                        \n",
    "                        if m in closed_list:\n",
    "                            closed_list.remove(m)\n",
    "                            open_list.add(m)\n",
    "            open_list.remove(n)\n",
    "            closed_list.add(n)\n",
    "        \n",
    "        print(\"Path not found!\")\n",
    "        return None"
   ]
  },
  {
   "cell_type": "code",
   "execution_count": 19,
   "id": "319abcda",
   "metadata": {
    "scrolled": true
   },
   "outputs": [
    {
     "name": "stdout",
     "output_type": "stream",
     "text": [
      "Path found: ['A', 'E', 'D', 'G']\n"
     ]
    },
    {
     "data": {
      "text/plain": [
       "['A', 'E', 'D', 'G']"
      ]
     },
     "execution_count": 19,
     "metadata": {},
     "output_type": "execute_result"
    }
   ],
   "source": [
    "ad = {\n",
    "    'A': [('B', 2), ('E', 3)],\n",
    "    'B': [('C', 1),('G', 9)],\n",
    "    'C': None,\n",
    "    'E': [('D', 6)],\n",
    "    'D': [('G', 1)],\n",
    "}\n",
    "\n",
    "g1 = Graph(ad)\n",
    "g1.aStar('A', 'G')"
   ]
  }
 ],
 "metadata": {
  "kernelspec": {
   "display_name": "Python 3 (ipykernel)",
   "language": "python",
   "name": "python3"
  },
  "language_info": {
   "codemirror_mode": {
    "name": "ipython",
    "version": 3
   },
   "file_extension": ".py",
   "mimetype": "text/x-python",
   "name": "python",
   "nbconvert_exporter": "python",
   "pygments_lexer": "ipython3",
   "version": "3.10.2"
  }
 },
 "nbformat": 4,
 "nbformat_minor": 5
}

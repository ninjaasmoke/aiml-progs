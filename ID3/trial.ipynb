{
 "cells": [
  {
   "cell_type": "code",
   "execution_count": 17,
   "id": "5554ffba",
   "metadata": {
    "scrolled": true
   },
   "outputs": [
    {
     "data": {
      "text/plain": [
       "{'outlook': {'Overcast': 'Yes',\n",
       "  'Rain': {'wind': {'Strong': 'No', 'Weak': 'Yes'}},\n",
       "  'Sunny': {'humidity': {'High': 'No', 'Normal': 'Yes'}}}}"
      ]
     },
     "execution_count": 17,
     "metadata": {},
     "output_type": "execute_result"
    }
   ],
   "source": [
    "import numpy as np\n",
    "import pandas as pd\n",
    "\n",
    "data = pd.read_csv('play.csv')\n",
    "\n",
    "def entropy(target):\n",
    "    val, counts = np.unique(target, return_counts = True)\n",
    "    ent = 0\n",
    "    for i in range(len(val)):\n",
    "        c = counts[i]/sum(counts)\n",
    "        ent += -c*np.log2(c)\n",
    "    return ent\n",
    "\n",
    "def infoGain(data, features, target):\n",
    "    te = entropy(data[target])\n",
    "    val, counts = np.unique(data[features], return_counts = True)\n",
    "    eg = 0\n",
    "    for i in range(len(val)):\n",
    "        c = counts[i]/sum(counts)\n",
    "        eg += c*entropy(data[data[features] == val[i]][target])\n",
    "    return te-eg\n",
    "\n",
    "def id3(data, features, target, pnode):\n",
    "    \n",
    "    t = np.unique(data[target])\n",
    "    \n",
    "    if len(t) == 1:\n",
    "        return t[0]\n",
    "    \n",
    "    if len(features) == 0:\n",
    "        return pnode\n",
    "    \n",
    "    pnode = t[np.argmax(t[1])]\n",
    "    \n",
    "    IG = [infoGain(data, f, target) for f in features]\n",
    "    index = np.argmax(IG)\n",
    "    \n",
    "    col = features[index]\n",
    "    tree = {col: {}}\n",
    "    \n",
    "    features = [f for f in features if f != col]\n",
    "    \n",
    "    for val in np.unique(data[col]):\n",
    "        sub_data = data[data[col] == val].dropna()\n",
    "        sub_tree = id3(sub_data, features, target, pnode)\n",
    "        tree[col][val] = sub_tree\n",
    "    return tree\n",
    "\n",
    "target = 'play'\n",
    "features = data.columns[data.columns != target]\n",
    "\n",
    "id3(data, features, target, None)"
   ]
  }
 ],
 "metadata": {
  "kernelspec": {
   "display_name": "Python 3 (ipykernel)",
   "language": "python",
   "name": "python3"
  },
  "language_info": {
   "codemirror_mode": {
    "name": "ipython",
    "version": 3
   },
   "file_extension": ".py",
   "mimetype": "text/x-python",
   "name": "python",
   "nbconvert_exporter": "python",
   "pygments_lexer": "ipython3",
   "version": "3.10.2"
  }
 },
 "nbformat": 4,
 "nbformat_minor": 5
}

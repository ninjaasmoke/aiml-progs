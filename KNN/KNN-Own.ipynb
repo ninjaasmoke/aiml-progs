{
 "cells": [
  {
   "cell_type": "code",
   "execution_count": 6,
   "id": "c8fb4055",
   "metadata": {},
   "outputs": [
    {
     "name": "stdout",
     "output_type": "stream",
     "text": [
      "(7, 4.3, 2.4, 2.2) => ['Iris-setosa']\n"
     ]
    }
   ],
   "source": [
    "import math\n",
    "import pandas as pd\n",
    "import numpy as np\n",
    "\n",
    "data = pd.read_csv(\"knn.csv\")\n",
    "\n",
    "def knn(k, point):\n",
    "    w,x,y,z = point;\n",
    "    \n",
    "    dp = []\n",
    "    pair = {}\n",
    "    \n",
    "    vj = np.array(data.iloc[:,-1:])\n",
    "    \n",
    "    i = 0\n",
    "    \n",
    "    points = np.array(data.iloc[:,0:-1])\n",
    "    \n",
    "    for (a,b,c,d) in (points): \n",
    "        distance=math.sqrt((a-w)**2+(b-x)**2+(c-y)**2+(d-z)**2)\n",
    "        dp.append(distance)\n",
    "        pair[distance] = vj[i]\n",
    "        i+=1\n",
    "        \n",
    "    return sorted(dp, key = float)[0:k], pair\n",
    "\n",
    "ip = (7,4.3,2.4,2.2)\n",
    "d, p = knn(3, ip)\n",
    "\n",
    "sets = []\n",
    "\n",
    "for i in d:\n",
    "    sets.append(p[i])\n",
    "    \n",
    "res = max(sets,key= sets.count)\n",
    "print(ip, \"=>\", res)"
   ]
  },
  {
   "cell_type": "code",
   "execution_count": 92,
   "id": "f504e0d5",
   "metadata": {},
   "outputs": [
    {
     "name": "stdout",
     "output_type": "stream",
     "text": [
      "\n"
     ]
    }
   ],
   "source": []
  },
  {
   "cell_type": "code",
   "execution_count": null,
   "id": "93dae181",
   "metadata": {},
   "outputs": [],
   "source": []
  }
 ],
 "metadata": {
  "kernelspec": {
   "display_name": "Python 3 (ipykernel)",
   "language": "python",
   "name": "python3"
  },
  "language_info": {
   "codemirror_mode": {
    "name": "ipython",
    "version": 3
   },
   "file_extension": ".py",
   "mimetype": "text/x-python",
   "name": "python",
   "nbconvert_exporter": "python",
   "pygments_lexer": "ipython3",
   "version": "3.10.2"
  }
 },
 "nbformat": 4,
 "nbformat_minor": 5
}

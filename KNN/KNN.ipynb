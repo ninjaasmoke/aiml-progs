{
 "cells": [
  {
   "cell_type": "code",
   "execution_count": 16,
   "id": "d9c66e62",
   "metadata": {},
   "outputs": [
    {
     "name": "stdout",
     "output_type": "stream",
     "text": [
      "Iris DataSet loaded...\n",
      "\n",
      "Results of Classification using KNN\n",
      "\n",
      "Sample: [7.2 3.2 6.  1.8]  Actual: 2  Predicted: 2\n",
      "Sample: [4.6 3.6 1.  0.2]  Actual: 0  Predicted: 0\n",
      "Sample: [6.  2.2 5.  1.5]  Actual: 2  Predicted: 1\n",
      "Sample: [4.9 3.6 1.4 0.1]  Actual: 0  Predicted: 0\n",
      "Sample: [5.1 3.8 1.5 0.3]  Actual: 0  Predicted: 0\n",
      "Sample: [4.3 3.  1.1 0.1]  Actual: 0  Predicted: 0\n",
      "\n",
      "Accuracy : 0.8333333333333334 \n",
      "\n"
     ]
    }
   ],
   "source": [
    "from sklearn.model_selection import train_test_split\n",
    "from sklearn.neighbors import KNeighborsClassifier as KNN\n",
    "from sklearn import datasets\n",
    "\n",
    "iris = datasets.load_iris()\n",
    "print(\"Iris DataSet loaded...\\n\")\n",
    "\n",
    "X, x, Y, y = train_test_split(iris.data, iris.target, test_size = 0.04)\n",
    "\n",
    "X = iris.data\n",
    "Y = iris.target\n",
    "\n",
    "model = KNN(3).fit(X, Y)\n",
    "\n",
    "pred = model.predict(x)\n",
    "\n",
    "print(\"Results of Classification using KNN\\n\")\n",
    "\n",
    "for r in range(len(x)):\n",
    "    print(\"Sample:\", x[r], \" Actual:\", y[r], \" Predicted:\", pred[r])\n",
    "    \n",
    "print(\"\\nAccuracy :\" , model.score(x,y), \"\\n\");"
   ]
  }
 ],
 "metadata": {
  "kernelspec": {
   "display_name": "Python 3 (ipykernel)",
   "language": "python",
   "name": "python3"
  },
  "language_info": {
   "codemirror_mode": {
    "name": "ipython",
    "version": 3
   },
   "file_extension": ".py",
   "mimetype": "text/x-python",
   "name": "python",
   "nbconvert_exporter": "python",
   "pygments_lexer": "ipython3",
   "version": "3.10.2"
  }
 },
 "nbformat": 4,
 "nbformat_minor": 5
}

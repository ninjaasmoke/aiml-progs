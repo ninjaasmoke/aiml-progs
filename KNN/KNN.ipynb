{
 "cells": [
  {
   "cell_type": "code",
   "execution_count": 36,
   "id": "d9c66e62",
   "metadata": {},
   "outputs": [
    {
     "name": "stdout",
     "output_type": "stream",
     "text": [
      "Iris Data set loaded...\n",
      "\n",
      "Results of Classification using KNN\n",
      "Sample: [5.6 3.  4.1 1.3]  Actual: 1  Predicted: 1\n",
      "Sample: [6.3 2.5 4.9 1.5]  Actual: 1  Predicted: 2\n",
      "Sample: [5.4 3.4 1.7 0.2]  Actual: 0  Predicted: 0\n",
      "Sample: [5.4 3.9 1.3 0.4]  Actual: 0  Predicted: 0\n",
      "Sample: [6.5 3.  5.2 2. ]  Actual: 2  Predicted: 2\n",
      "Sample: [6.7 3.1 5.6 2.4]  Actual: 2  Predicted: 2\n",
      "Sample: [5.7 2.5 5.  2. ]  Actual: 2  Predicted: 2\n",
      "Sample: [5.1 3.3 1.7 0.5]  Actual: 0  Predicted: 0\n",
      "Sample: [4.8 3.  1.4 0.1]  Actual: 0  Predicted: 0\n",
      "Sample: [6.2 2.2 4.5 1.5]  Actual: 1  Predicted: 1\n",
      "Sample: [5.1 3.4 1.5 0.2]  Actual: 0  Predicted: 0\n",
      "Sample: [7.4 2.8 6.1 1.9]  Actual: 2  Predicted: 2\n",
      "Sample: [4.9 3.1 1.5 0.2]  Actual: 0  Predicted: 0\n",
      "Sample: [6.8 3.  5.5 2.1]  Actual: 2  Predicted: 2\n",
      "Sample: [5.7 2.8 4.5 1.3]  Actual: 1  Predicted: 1\n",
      "\n",
      "Accuracy : 0.9333333333333333 \n",
      "\n"
     ]
    }
   ],
   "source": [
    "from sklearn.model_selection import train_test_split\n",
    "from sklearn.neighbors import KNeighborsClassifier as KNN\n",
    "from sklearn import datasets\n",
    "\n",
    "iris=datasets.load_iris()\n",
    "print(\"Iris Data set loaded...\\n\")\n",
    "\n",
    "X, x, Y, y = train_test_split(iris.data,iris.target, test_size = 0.1, random_state=50)\n",
    "\n",
    "model = KNN(3).fit(X, Y)\n",
    "\n",
    "pred=model.predict(x)\n",
    "\n",
    "print(\"Results of Classification using KNN\")\n",
    "\n",
    "for r in range(0,len(x)):\n",
    "    print(\"Sample:\", x[r], \" Actual:\", y[r], \" Predicted:\",pred[r])\n",
    "    \n",
    "print(\"\\nAccuracy :\" , model.score(x,y), \"\\n\");"
   ]
  },
  {
   "cell_type": "code",
   "execution_count": null,
   "id": "d0d0f2f3",
   "metadata": {},
   "outputs": [],
   "source": []
  },
  {
   "cell_type": "code",
   "execution_count": null,
   "id": "5b2adef3",
   "metadata": {},
   "outputs": [],
   "source": []
  },
  {
   "cell_type": "code",
   "execution_count": null,
   "id": "d24ee045",
   "metadata": {
    "scrolled": true
   },
   "outputs": [],
   "source": []
  },
  {
   "cell_type": "code",
   "execution_count": null,
   "id": "6cd5b4b3",
   "metadata": {},
   "outputs": [],
   "source": []
  }
 ],
 "metadata": {
  "kernelspec": {
   "display_name": "Python 3 (ipykernel)",
   "language": "python",
   "name": "python3"
  },
  "language_info": {
   "codemirror_mode": {
    "name": "ipython",
    "version": 3
   },
   "file_extension": ".py",
   "mimetype": "text/x-python",
   "name": "python",
   "nbconvert_exporter": "python",
   "pygments_lexer": "ipython3",
   "version": "3.10.2"
  }
 },
 "nbformat": 4,
 "nbformat_minor": 5
}

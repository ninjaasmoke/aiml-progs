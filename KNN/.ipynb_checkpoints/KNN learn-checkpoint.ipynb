{
 "cells": [
  {
   "cell_type": "code",
   "execution_count": 30,
   "id": "12918aff",
   "metadata": {},
   "outputs": [
    {
     "name": "stdout",
     "output_type": "stream",
     "text": [
      "Loaded iris dataset...\n",
      "\n",
      "Results of KNN classification are...\n",
      "\n",
      "Selection:  [6.7 2.5 5.8 1.8]  Actual OP:  2  Predicted OP:  2\n",
      "Selection:  [6.6 2.9 4.6 1.3]  Actual OP:  1  Predicted OP:  1\n",
      "\n",
      "Accuracy of Classification:  1.0\n",
      "\n",
      "Length of training data:  148\n",
      "Length of test data:  2\n",
      "['sepal length (cm)', 'sepal width (cm)', 'petal length (cm)', 'petal width (cm)']\n",
      "['setosa' 'versicolor' 'virginica']\n"
     ]
    }
   ],
   "source": [
    "from sklearn.neighbors import KNeighborsClassifier as KNN\n",
    "from sklearn.model_selection import train_test_split\n",
    "from sklearn import datasets\n",
    "\n",
    "iris = datasets.load_iris()\n",
    "print(\"Loaded iris dataset...\\n\")\n",
    "\n",
    "X,x,Y,y = train_test_split(iris.data, iris.target, test_size=0.01)\n",
    "\n",
    "model =  KNN(3).fit(X, Y)\n",
    "pred = model.predict(x)\n",
    "\n",
    "print(\"Results of KNN classification are...\\n\")\n",
    "\n",
    "for r in range(len(x)):\n",
    "    print(\"Selection: \", x[r], \" Actual OP: \", y[r], \" Predicted OP: \", pred[r])\n",
    "    pass\n",
    "\n",
    "print(\"\\nAccuracy of Classification: \", model.score(x, y))\n",
    "print(\"\\nLength of training data: \", len(X))\n",
    "print(\"Length of test data: \", len(x))\n",
    "\n",
    "print(iris.feature_names)\n",
    "print(iris.target_names)"
   ]
  }
 ],
 "metadata": {
  "kernelspec": {
   "display_name": "Python 3 (ipykernel)",
   "language": "python",
   "name": "python3"
  },
  "language_info": {
   "codemirror_mode": {
    "name": "ipython",
    "version": 3
   },
   "file_extension": ".py",
   "mimetype": "text/x-python",
   "name": "python",
   "nbconvert_exporter": "python",
   "pygments_lexer": "ipython3",
   "version": "3.10.2"
  }
 },
 "nbformat": 4,
 "nbformat_minor": 5
}

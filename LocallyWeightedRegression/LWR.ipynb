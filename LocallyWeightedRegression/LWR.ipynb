{
 "cells": [
  {
   "cell_type": "code",
   "execution_count": 32,
   "id": "a61f5b4e",
   "metadata": {},
   "outputs": [
    {
     "data": {
      "image/png": "[encoded data removed]",
      "text/plain": [
       "<Figure size 432x288 with 1 Axes>"
      ]
     },
     "metadata": {
      "needs_background": "light"
     },
     "output_type": "display_data"
    }
   ],
   "source": [
    "from matplotlib import pyplot as plt\n",
    "import numpy as np\n",
    "import pandas as pd\n",
    "\n",
    "def localWeigh(point, X, ymat, k):\n",
    "    m, n = np.shape(X)\n",
    "    weights = np.mat(np.eye(m))\n",
    "    for i in range(m):\n",
    "        diff = point - X[i]\n",
    "        weights[i,i] = np.exp(diff*diff.T/(-2.0*k**2))\n",
    "    W = (X.T * (weights*X)).I * (X.T*(weights*ymat.T))\n",
    "    return W\n",
    "\n",
    "def localWeightReg(X,ymat,k):\n",
    "    m,n = np.shape(X)\n",
    "    ypred = np.zeros(m)\n",
    "    for i in range(m):\n",
    "        ypred[i] = X[i] * localWeigh(X[i],X,ymat,k)\n",
    "    return ypred\n",
    "\n",
    "def plott(X,pred):\n",
    "    sortIndex = X[:,1].argsort(0)\n",
    "    xsort = X[sortIndex][:,0][:,1]\n",
    "    ysort = pred[sortIndex]\n",
    "    plt.scatter(x,y)\n",
    "    plt.plot(xsort,ysort,color=\"yellow\",linewidth=5)\n",
    "    plt.xlabel('Total bill')\n",
    "    plt.ylabel('Tips')\n",
    "    plt.show()\n",
    "    return\n",
    "\n",
    "data = pd.read_csv('data10.csv')\n",
    "x=data['total_bill']\n",
    "y = data['tip']\n",
    "xmat = np.mat(x)\n",
    "ymat = np.mat(y)\n",
    "size = np.shape(xmat)[1]\n",
    "ones = np.mat(np.ones(size))\n",
    "X=np.hstack((ones.T,xmat.T))\n",
    "pred = localWeightReg(X,ymat,3)\n",
    "plott(X,pred)"
   ]
  },
  {
   "cell_type": "code",
   "execution_count": null,
   "id": "fd3d5c32",
   "metadata": {},
   "outputs": [],
   "source": []
  },
  {
   "cell_type": "code",
   "execution_count": null,
   "id": "45a83d91",
   "metadata": {},
   "outputs": [],
   "source": []
  }
 ],
 "metadata": {
  "kernelspec": {
   "display_name": "Python 3 (ipykernel)",
   "language": "python",
   "name": "python3"
  },
  "language_info": {
   "codemirror_mode": {
    "name": "ipython",
    "version": 3
   },
   "file_extension": ".py",
   "mimetype": "text/x-python",
   "name": "python",
   "nbconvert_exporter": "python",
   "pygments_lexer": "ipython3",
   "version": "3.10.2"
  }
 },
 "nbformat": 4,
 "nbformat_minor": 5
}

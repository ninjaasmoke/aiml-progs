{
 "cells": [
  {
   "cell_type": "code",
   "execution_count": 12,
   "id": "75ba2804",
   "metadata": {},
   "outputs": [
    {
     "data": {
      "image/png": "[encoded data removed]",
      "text/plain": [
       "<Figure size 432x288 with 1 Axes>"
      ]
     },
     "metadata": {
      "needs_background": "light"
     },
     "output_type": "display_data"
    }
   ],
   "source": [
    "from matplotlib import pyplot as plt\n",
    "import numpy as np\n",
    "import pandas as pd\n",
    "\n",
    "data = pd.read_csv('data10.csv')\n",
    "x = data['total_bill']\n",
    "y = data['tip']\n",
    "\n",
    "xmat = np.mat(x)\n",
    "ymat = np.mat(y)\n",
    "\n",
    "size = np.shape(xmat)[1]\n",
    "ones = np.mat(np.ones(size))\n",
    "\n",
    "X = np.hstack((ones.T, xmat.T))\n",
    "\n",
    "def localWeigh(point, X, ymat, k):\n",
    "    m,n = np.shape(X)\n",
    "    weights = np.mat(np.eye(m))\n",
    "    \n",
    "    for i in range(m):\n",
    "        diff = point - X[i]\n",
    "        weights[i,i] = np.exp(diff*diff.T/(-2.0*k**2))\n",
    "    \n",
    "    W = (X.T * (weights*X)).I * (X.T * weights*ymat.T)\n",
    "    return W\n",
    "\n",
    "def localWeightReg(X, ymat, k):\n",
    "    m,n = np.shape(X)\n",
    "    ypred = np.zeros(m)\n",
    "    \n",
    "    for i in range(m):\n",
    "        ypred[i] = X[i] * localWeigh(X[i], X, ymat, k)\n",
    "    \n",
    "    return ypred\n",
    "\n",
    "def plot(X, pred):\n",
    "    sort = X[:,1].argsort(0)\n",
    "    \n",
    "    xsort = X[sort][:,0][:,1]\n",
    "    ysort = pred[sort]\n",
    "    \n",
    "    plt.scatter(x, y, color=\"yellow\")\n",
    "    plt.plot(xsort, ysort, linewidth=5, color=\"purple\")\n",
    "    \n",
    "    plt.show()\n",
    "    return\n",
    "\n",
    "pred = localWeightReg(X, ymat, 3)\n",
    "\n",
    "plot(X, pred)"
   ]
  }
 ],
 "metadata": {
  "kernelspec": {
   "display_name": "Python 3 (ipykernel)",
   "language": "python",
   "name": "python3"
  },
  "language_info": {
   "codemirror_mode": {
    "name": "ipython",
    "version": 3
   },
   "file_extension": ".py",
   "mimetype": "text/x-python",
   "name": "python",
   "nbconvert_exporter": "python",
   "pygments_lexer": "ipython3",
   "version": "3.10.2"
  }
 },
 "nbformat": 4,
 "nbformat_minor": 5
}

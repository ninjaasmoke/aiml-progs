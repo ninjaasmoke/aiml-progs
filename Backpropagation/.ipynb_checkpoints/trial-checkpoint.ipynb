{
 "cells": [
  {
   "cell_type": "code",
   "execution_count": 18,
   "id": "85d9069e",
   "metadata": {
    "scrolled": true
   },
   "outputs": [
    {
     "name": "stdout",
     "output_type": "stream",
     "text": [
      "[[0.5        1.        ]\n",
      " [0.75       0.66666667]\n",
      " [1.         0.88888889]]\n",
      "[[0.92]\n",
      " [0.86]\n",
      " [0.84]]\n",
      "[[0.92029797]\n",
      " [0.85844145]\n",
      " [0.84113792]]\n"
     ]
    }
   ],
   "source": [
    "import numpy as np\n",
    "\n",
    "X = np.array([[2,9], [3,6], [4,8]])\n",
    "y = np.array([[92], [86], [84]])\n",
    "\n",
    "X = X / np.amax(X, axis=0)\n",
    "y = y / 100\n",
    "\n",
    "def sig(x):\n",
    "    return 1/(1 + np.exp(-x))\n",
    "def grad(x):\n",
    "    return x*(1-x)\n",
    "def rand(x,y):\n",
    "    return np.random.uniform(size=(x,y))\n",
    "\n",
    "epoch = 100000\n",
    "eta = 0.1\n",
    "\n",
    "i_n = 2\n",
    "h_n = 3\n",
    "o_n = 1\n",
    "\n",
    "wh = rand(i_n, h_n)\n",
    "bh = rand(1, h_n)\n",
    "\n",
    "wout = rand(h_n, o_n)\n",
    "bout = rand(1, o_n)\n",
    "\n",
    "for i in range(epoch):\n",
    "    h_ip = np.dot(X, wh)\n",
    "    h_act = sig(h_ip)\n",
    "    \n",
    "    o_ip = np.dot(h_act, wout) + bout\n",
    "    output = sig(o_ip)\n",
    "    \n",
    "    Eo = y - output\n",
    "    outgrad = grad(output)\n",
    "    d_out = Eo * outgrad\n",
    "    \n",
    "    Eh = np.dot(d_out, wout.T)\n",
    "    hgrad = grad(h_act)\n",
    "    d_hidden = Eh * hgrad\n",
    "    \n",
    "    wout += np.dot(h_act.T, d_out) * eta\n",
    "    wh += np.dot(X.T, d_hidden) * eta\n",
    "    pass\n",
    "\n",
    "print(X)\n",
    "print(y)\n",
    "print(output)"
   ]
  }
 ],
 "metadata": {
  "kernelspec": {
   "display_name": "Python 3 (ipykernel)",
   "language": "python",
   "name": "python3"
  },
  "language_info": {
   "codemirror_mode": {
    "name": "ipython",
    "version": 3
   },
   "file_extension": ".py",
   "mimetype": "text/x-python",
   "name": "python",
   "nbconvert_exporter": "python",
   "pygments_lexer": "ipython3",
   "version": "3.10.2"
  }
 },
 "nbformat": 4,
 "nbformat_minor": 5
}

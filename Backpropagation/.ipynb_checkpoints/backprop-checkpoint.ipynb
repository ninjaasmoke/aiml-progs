{
 "cells": [
  {
   "cell_type": "code",
   "execution_count": 25,
   "id": "063423e0",
   "metadata": {},
   "outputs": [
    {
     "name": "stdout",
     "output_type": "stream",
     "text": [
      "Normal: \n",
      "[0.5 1. ]\n",
      "[0.75       0.66666667]\n",
      "[1.         0.88888889]\n",
      "\n",
      "Actual: \n",
      "[0.92]\n",
      "[0.86]\n",
      "[0.84]\n",
      "\n",
      "Pred: \n",
      "[0.8721367]\n",
      "[0.86917497]\n",
      "[0.87797585]\n"
     ]
    }
   ],
   "source": [
    "import numpy as np\n",
    "\n",
    "X = np.array([[2,9], [3,6], [4,8]])\n",
    "y = np.array([[92], [86], [84]])\n",
    "\n",
    "X = X/np.amax(X, axis=0)\n",
    "y = y/100\n",
    "\n",
    "def sigmoid(x):\n",
    "    return 1/(1 + np.exp(-x))\n",
    "\n",
    "def sigmoid_grad(x):\n",
    "    return x*(1 - x)\n",
    "\n",
    "epoch = 1000\n",
    "eta = 0.1\n",
    "\n",
    "i_n = 2\n",
    "h_n = 3\n",
    "o_n = 1\n",
    "\n",
    "wh = np.random.uniform(size=(i_n, h_n))\n",
    "bh = np.random.uniform(size=(1, h_n))\n",
    "\n",
    "wout = np.random.uniform(size=(h_n, o_n))\n",
    "bout = np.random.uniform(size=(1,o_n))\n",
    "\n",
    "for i in range(epoch):\n",
    "    h_ip = np.dot(X, wh)\n",
    "    h_act = sigmoid(h_ip)\n",
    "    \n",
    "    o_ip = np.dot(h_act, wout) + bout\n",
    "    output = sigmoid(o_ip)\n",
    "    \n",
    "    Eo = y - output\n",
    "    outgrad = sigmoid_grad(output)\n",
    "    d_output = Eo* outgrad\n",
    "    \n",
    "    Eh = np.dot(d_output, wout.T)\n",
    "    hiddengrad = sigmoid_grad(h_act)\n",
    "    d_hidden = Eh* hiddengrad\n",
    "    \n",
    "    wout += np.dot(h_act.T, d_output) *eta\n",
    "    wh += np.dot(X.T,d_hidden) *eta\n",
    "\n",
    "print(\"Normal: \")\n",
    "for i in X:\n",
    "    print(i)\n",
    "print(\"\\nActual: \")\n",
    "for i in y:\n",
    "    print(i)\n",
    "print(\"\\nPred: \")\n",
    "for i in output:\n",
    "    print(i)"
   ]
  },
  {
   "cell_type": "code",
   "execution_count": null,
   "id": "7a36bb3e",
   "metadata": {},
   "outputs": [],
   "source": []
  }
 ],
 "metadata": {
  "kernelspec": {
   "display_name": "Python 3 (ipykernel)",
   "language": "python",
   "name": "python3"
  },
  "language_info": {
   "codemirror_mode": {
    "name": "ipython",
    "version": 3
   },
   "file_extension": ".py",
   "mimetype": "text/x-python",
   "name": "python",
   "nbconvert_exporter": "python",
   "pygments_lexer": "ipython3",
   "version": "3.10.2"
  }
 },
 "nbformat": 4,
 "nbformat_minor": 5
}

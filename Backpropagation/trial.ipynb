{
 "cells": [
  {
   "cell_type": "code",
   "execution_count": 53,
   "id": "846b6e6e",
   "metadata": {
    "scrolled": false
   },
   "outputs": [
    {
     "name": "stdout",
     "output_type": "stream",
     "text": [
      "[[0.5  0.9 ]\n",
      " [0.75 0.6 ]\n",
      " [1.   0.8 ]\n",
      " [0.25 1.  ]] \n",
      "\n",
      "[[0.92]\n",
      " [0.86]\n",
      " [0.84]\n",
      " [0.98]] \n",
      "\n",
      "[[0.9217122 ]\n",
      " [0.85806222]\n",
      " [0.84108427]\n",
      " [0.97795778]]\n"
     ]
    }
   ],
   "source": [
    "import numpy as np\n",
    "\n",
    "X = np.array([[2,9], [3,6], [4,8], [1, 10]])\n",
    "y = np.array([[92], [86], [84], [98]])\n",
    "\n",
    "X = X/np.amax(X, axis=0)\n",
    "y = y/100\n",
    "\n",
    "def sig(x):\n",
    "    return 1/ ( 1 + np.exp(-x))\n",
    "\n",
    "def grad(x):\n",
    "    return x*(1-x)\n",
    "\n",
    "def rand(x,y):\n",
    "    return np.random.uniform(size=(x,y))\n",
    "\n",
    "def dot(x,y):\n",
    "    return np.dot(x,y)\n",
    "\n",
    "epoch = 100000\n",
    "eta = 1\n",
    "\n",
    "i_n = 2\n",
    "h_n = 3\n",
    "o_n = 1\n",
    "\n",
    "wh = rand(i_n, h_n)\n",
    "bh = rand(1, h_n)\n",
    "\n",
    "wout = rand(h_n, o_n)\n",
    "bout = rand(1, o_n)\n",
    "\n",
    "for i in range(epoch):\n",
    "    \n",
    "    h_in = dot(X, wh) + bh\n",
    "    h_act = sig(h_in)\n",
    "    \n",
    "    o_ip = dot(h_act, wout) + bout\n",
    "    output = sig(o_ip)\n",
    "    \n",
    "    Eo = y - output\n",
    "    outgrad = grad(output)\n",
    "    d_out = Eo * outgrad\n",
    "    \n",
    "    Eh = dot(d_out, wout.T)\n",
    "    hidgrad = grad(h_act)\n",
    "    d_hid = Eh * hidgrad\n",
    "    \n",
    "    wout += dot(h_act.T, d_out) * eta\n",
    "    wh += dot(X.T, d_hid) * eta\n",
    "    pass\n",
    "\n",
    "print(X, y, output, sep=\" \\n\\n\")"
   ]
  }
 ],
 "metadata": {
  "kernelspec": {
   "display_name": "Python 3 (ipykernel)",
   "language": "python",
   "name": "python3"
  },
  "language_info": {
   "codemirror_mode": {
    "name": "ipython",
    "version": 3
   },
   "file_extension": ".py",
   "mimetype": "text/x-python",
   "name": "python",
   "nbconvert_exporter": "python",
   "pygments_lexer": "ipython3",
   "version": "3.10.2"
  }
 },
 "nbformat": 4,
 "nbformat_minor": 5
}
